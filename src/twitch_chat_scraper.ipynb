{
 "cells": [
  {
   "cell_type": "markdown",
   "metadata": {},
   "source": [
    "## Scraping Twitch Chat Data\n",
    "\n",
    "#### Using Twitch Sockets from https://www.learndatasci.com/tutorials/how-stream-text-data-twitch-sockets-python/"
   ]
  },
  {
   "cell_type": "code",
   "execution_count": 10,
   "metadata": {},
   "outputs": [],
   "source": [
    "import os\n",
    "\n",
    "server = 'irc.chat.twitch.tv'\n",
    "port = 6667\n",
    "nickname = 'gCapstone1'\n",
    "token = os.environ.get('TWITCH_OAUTH_TOKEN')\n",
    "\n",
    "\n",
    "#specify the channel and log file name\n",
    "channel = '#bmkibler' #hearthstone\n",
    "log_file_name = 'bmkibler_chat.log'"
   ]
  },
  {
   "cell_type": "code",
   "execution_count": 11,
   "metadata": {},
   "outputs": [],
   "source": [
    "#To establish a connection to Twitch IRC we'll be using Python's socket library. First we need to instantiate a socket:\n",
    "\n",
    "import socket\n",
    "\n",
    "sock = socket.socket()\n",
    "sock.connect((server, port))"
   ]
  },
  {
   "cell_type": "code",
   "execution_count": 12,
   "metadata": {},
   "outputs": [
    {
     "data": {
      "text/plain": [
       "15"
      ]
     },
     "execution_count": 12,
     "metadata": {},
     "output_type": "execute_result"
    }
   ],
   "source": [
    "#Once connected, we need to send our token and nickname for authentication, and the channel to connect to over the socket.\n",
    "\n",
    "# With sockets, we need to send() these parameters as encoded strings:\n",
    "\n",
    "sock.send(f\"PASS {token}\\n\".encode('utf-8'))\n",
    "sock.send(f\"NICK {nickname}\\n\".encode('utf-8'))\n",
    "sock.send(f\"JOIN {channel}\\n\".encode('utf-8'))"
   ]
  },
  {
   "cell_type": "code",
   "execution_count": 13,
   "metadata": {},
   "outputs": [
    {
     "name": "stdout",
     "output_type": "stream",
     "text": [
      ":tmi.twitch.tv 001 1337mik3 :Welcome, GLHF!\r\n",
      ":tmi.twitch.tv 002 1337mik3 :Your host is tmi.twitch.tv\r\n",
      ":tmi.twitch.tv 003 1337mik3 :This server is rather new\r\n",
      ":tmi.twitch.tv 004 1337mik3 :-\r\n",
      ":tmi.twitch.tv 375 1337mik3 :-\r\n",
      ":tmi.twitch.tv 372 1337mik3 :You are in a maze of twisty passages, all alike.\r\n",
      ":tmi.twitch.tv 376 1337mik3 :>\r\n",
      ":1337mik3!1337mik3@1337mik3.tmi.twitch.tv JOIN #bmkibler\r\n",
      ":1337mik3.tmi.twitch.tv 353 1337mik3 = #bmkibler :1337mik3\r\n",
      ":1337mik3.tmi.twitch.tv 366 1337mik3 #bmkibler :End of /NAMES list\r\n",
      "\n"
     ]
    }
   ],
   "source": [
    "# Now we have successfully connected and can receive responses from the channel we subscribed to. To get a single response we can call .recv() and then decode the message from bytes:\n",
    "\n",
    "resp = sock.recv(2048).decode('utf-8')\n",
    "print(resp)"
   ]
  },
  {
   "cell_type": "code",
   "execution_count": 14,
   "metadata": {},
   "outputs": [
    {
     "name": "stdout",
     "output_type": "stream",
     "text": [
      ":capozmichael!capozmichael@capozmichael.tmi.twitch.tv PRIVMSG #bmkibler :but what's the plan of this deck vs control? maybe landing, but not enough\r\n",
      "\n"
     ]
    }
   ],
   "source": [
    "# Note: running this the first time will show a welcome message from Twitch. Run it again to show the first message from the channel.\n",
    "\n",
    "# The 2048 is the buffer size in bytes, or the amount of data to receive. The convention is to use small powers of 2, so 1024, 2048, 4096, etc. Rerunning the above will receive the next message that was pushed to the socket.\n",
    "\n",
    "resp = sock.recv(2048).decode('utf-8')\n",
    "print(resp)"
   ]
  },
  {
   "cell_type": "code",
   "execution_count": 15,
   "metadata": {},
   "outputs": [],
   "source": [
    "# Writing messages to a file\n",
    "# Right now, our socket is being inundated with responses from Twitch but we have two problems:\n",
    "\n",
    "# We need to continuously check for new messages\n",
    "# We want to log the messages as they come in\n",
    "# To fix, we'll use a loop to check for new messages while the socket is open and use Python's logging library to log messages to a file.\n",
    "\n",
    "# First, let's set up a basic logger in Python that will write messages to a file:\n",
    "\n",
    "import logging\n",
    "\n",
    "# saves to the specified log file name\n",
    "logging.basicConfig(level=logging.DEBUG,\n",
    "                    format='%(asctime)s — %(message)s',\n",
    "                    datefmt='%Y-%m-%d_%H:%M:%S',\n",
    "                    handlers=[logging.FileHandler(log_file_name, encoding='utf-8')])"
   ]
  },
  {
   "cell_type": "code",
   "execution_count": 16,
   "metadata": {},
   "outputs": [],
   "source": [
    "logging.info(resp)"
   ]
  },
  {
   "cell_type": "code",
   "execution_count": 17,
   "metadata": {},
   "outputs": [
    {
     "name": "stdout",
     "output_type": "stream",
     "text": [
      ":analogrebellion!analogrebellion@analogrebellion.tmi.twitch.tv PRIVMSG #bmkibler :LUL\n",
      ":tbs77340!tbs77340@tbs77340.tmi.twitch.tv PRIVMSG #bmkibler :i never knew magic rules, i don't know how to play this game :((\n",
      ":baconality!baconality@baconality.tmi.twitch.tv PRIVMSG #bmkibler :could you mouse over the leylines he has?\n",
      "\n",
      "1\n",
      ":medal_2!medal_2@medal_2.tmi.twitch.tv PRIVMSG #bmkibler :@tbs77340 try it out! It has a pretty decent tutorial that shows you the ropes\n",
      "\n",
      "2\n",
      ":anduin_wrinn!anduin_wrinn@anduin_wrinn.tmi.twitch.tv PRIVMSG #bmkibler :@bmkibler sry for offtopic, reaction of hs annoucement, already gone? bmkGalv\n",
      "\n",
      "3\n",
      ":keksz04!keksz04@keksz04.tmi.twitch.tv PRIVMSG #bmkibler :@tbs77340 - same here :d\n",
      "\n",
      "4\n",
      ":therealaurumserenity!therealaurumserenity@therealaurumserenity.tmi.twitch.tv PRIVMSG #bmkibler :@hoo_hoo_kachoo my friends are going to hate you forever and they don’t even know you. Thank you for making this deck. Lol\n",
      "\n",
      "5\n",
      ":moobot!moobot@moobot.tmi.twitch.tv PRIVMSG #bmkibler :Support the stream in style! Get a Shiro Power or Dragon Army t-shirt at www.crowdmade.com/bmk\n",
      "\n",
      "6\n",
      ":baconality!baconality@baconality.tmi.twitch.tv PRIVMSG #bmkibler :thx\n",
      "\n",
      "7\n",
      ":hoo_hoo_kachoo!hoo_hoo_kachoo@hoo_hoo_kachoo.tmi.twitch.tv PRIVMSG #bmkibler :@TheRealAurumSerenity <3 <3\n",
      "\n",
      "8\n",
      ":danielbonev22!danielbonev22@danielbonev22.tmi.twitch.tv PRIVMSG #bmkibler :!uptime\n",
      "\n",
      "9\n",
      ":mtgbot!mtgbot@mtgbot.tmi.twitch.tv PRIVMSG #bmkibler :bmkibler has been live for 4 hours 33 minutes.\n",
      "\n",
      "10\n"
     ]
    },
    {
     "ename": "KeyboardInterrupt",
     "evalue": "",
     "output_type": "error",
     "traceback": [
      "\u001b[0;31m---------------------------------------------------------------------------\u001b[0m",
      "\u001b[0;31mKeyboardInterrupt\u001b[0m                         Traceback (most recent call last)",
      "\u001b[0;32m<ipython-input-17-c04ec70f225a>\u001b[0m in \u001b[0;36m<module>\u001b[0;34m\u001b[0m\n\u001b[1;32m     21\u001b[0m \u001b[0;34m\u001b[0m\u001b[0m\n\u001b[1;32m     22\u001b[0m \u001b[0;32mwhile\u001b[0m \u001b[0;32mTrue\u001b[0m\u001b[0;34m:\u001b[0m\u001b[0;34m\u001b[0m\u001b[0;34m\u001b[0m\u001b[0m\n\u001b[0;32m---> 23\u001b[0;31m     \u001b[0mresp\u001b[0m \u001b[0;34m=\u001b[0m \u001b[0msock\u001b[0m\u001b[0;34m.\u001b[0m\u001b[0mrecv\u001b[0m\u001b[0;34m(\u001b[0m\u001b[0;36m2048\u001b[0m\u001b[0;34m)\u001b[0m\u001b[0;34m.\u001b[0m\u001b[0mdecode\u001b[0m\u001b[0;34m(\u001b[0m\u001b[0;34m'utf-8'\u001b[0m\u001b[0;34m)\u001b[0m\u001b[0;34m\u001b[0m\u001b[0;34m\u001b[0m\u001b[0m\n\u001b[0m\u001b[1;32m     24\u001b[0m     \u001b[0mprint\u001b[0m\u001b[0;34m(\u001b[0m\u001b[0mresp\u001b[0m\u001b[0;34m)\u001b[0m\u001b[0;34m\u001b[0m\u001b[0;34m\u001b[0m\u001b[0m\n\u001b[1;32m     25\u001b[0m \u001b[0;34m\u001b[0m\u001b[0m\n",
      "\u001b[0;31mKeyboardInterrupt\u001b[0m: "
     ]
    }
   ],
   "source": [
    "# Opening chat.log we can see the first message:\n",
    "\n",
    "# 2018-12-10_11:26:40 — :spappygram!spappygram@spappygram.tmi.twitch.tv PRIVMSG #ninja :Chat, let Ninja play solos if he wants. His friends can get in contact with him.\n",
    "\n",
    "# So we have the time the message was logged at the beginning, a double dash separator, and then the message. This format corresponds to the format argument we used in basicConfig.\n",
    "\n",
    "# Later, we'll be parsing these each message and use the time as a piece of data to explore.\n",
    "\n",
    "# Continuous message writing\n",
    "# Now on to continuously checking for new messages in a loop.\n",
    "\n",
    "# When we're connected to the socket, Twitch (and other IRC) will periodically send a keyword — \"PING\" — to check if you're still using the connection. We want to check for this keyword, and send an appropriate response — \"PONG\".\n",
    "\n",
    "# One other thing we'll do is parse emojis so they can be written to a file. To do this, we'll use the emoji library that will provide a mapping from emojis to their meaning in words. For example, if a 👍 shows up in a message it'll be converted to :thumbs_up:.\n",
    "\n",
    "# The following is a while loop that will continuously check for new messages from the socket, send a PONG if necessary, and log messages with parsed emojis:\n",
    "\n",
    "from emoji import demojize\n",
    "\n",
    "counter=1\n",
    "\n",
    "while True:\n",
    "    resp = sock.recv(2048).decode('utf-8')\n",
    "    print(resp)\n",
    "    \n",
    "    if resp.startswith('PING'):\n",
    "        sock.send(\"PONG\\n\".encode('utf-8'))\n",
    "    \n",
    "    elif len(resp) > 0:\n",
    "        logging.info(demojize(resp))\n",
    "    \n",
    "    print(counter)\n",
    "    counter+=1\n",
    "        \n",
    "# This will keep running until you stop it. To see the messages in real-time open a new terminal, navigate to the log's location, and run tail -f chat.log."
   ]
  },
  {
   "cell_type": "code",
   "execution_count": 18,
   "metadata": {},
   "outputs": [],
   "source": [
    "#close socket IF DONE\n",
    "\n",
    "sock.close()"
   ]
  },
  {
   "cell_type": "code",
   "execution_count": null,
   "metadata": {},
   "outputs": [],
   "source": []
  }
 ],
 "metadata": {
  "kernelspec": {
   "display_name": "Python 3",
   "language": "python",
   "name": "python3"
  },
  "language_info": {
   "codemirror_mode": {
    "name": "ipython",
    "version": 3
   },
   "file_extension": ".py",
   "mimetype": "text/x-python",
   "name": "python",
   "nbconvert_exporter": "python",
   "pygments_lexer": "ipython3",
   "version": "3.7.1"
  }
 },
 "nbformat": 4,
 "nbformat_minor": 2
}
