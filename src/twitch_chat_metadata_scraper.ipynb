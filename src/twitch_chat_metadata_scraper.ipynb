{
 "cells": [
  {
   "cell_type": "markdown",
   "metadata": {},
   "source": [
    "# Scraping Twitch Channel Metadata\n",
    "\n",
    "### Uses Twitch API / Python client to extract data\n",
    "\n",
    "The following code runs and logs data until manually stopped"
   ]
  },
  {
   "cell_type": "code",
   "execution_count": 2,
   "metadata": {},
   "outputs": [
    {
     "name": "stdout",
     "output_type": "stream",
     "text": [
      "2019-05-31T18:23:09.142230{'id': '34353515248', 'user_id': '30777889', 'user_name': 'itsHafu', 'game_id': '509481', 'community_ids': [], 'type': 'live', 'title': 'HAFU -- twitch sings and drinks -- #sponsored :)', 'viewer_count': 2546, 'started_at': datetime.datetime(2019, 5, 31, 21, 39, 1), 'language': 'en', 'thumbnail_url': 'https://static-cdn.jtvnw.net/previews-ttv/live_user_itshafu-{width}x{height}.jpg', 'tag_ids': ['6ea6bca4-4712-4ab9-a906-e3336a9d8039']}\n",
      "\n"
     ]
    },
    {
     "ename": "KeyboardInterrupt",
     "evalue": "",
     "output_type": "error",
     "traceback": [
      "\u001b[0;31m---------------------------------------------------------------------------\u001b[0m",
      "\u001b[0;31mKeyboardInterrupt\u001b[0m                         Traceback (most recent call last)",
      "\u001b[0;32m<ipython-input-2-97d0d3c0d8ed>\u001b[0m in \u001b[0;36m<module>\u001b[0;34m\u001b[0m\n\u001b[1;32m     36\u001b[0m     \u001b[0mf\u001b[0m\u001b[0;34m.\u001b[0m\u001b[0mclose\u001b[0m\u001b[0;34m(\u001b[0m\u001b[0;34m)\u001b[0m\u001b[0;34m\u001b[0m\u001b[0;34m\u001b[0m\u001b[0m\n\u001b[1;32m     37\u001b[0m \u001b[0;34m\u001b[0m\u001b[0m\n\u001b[0;32m---> 38\u001b[0;31m     \u001b[0mtime\u001b[0m\u001b[0;34m.\u001b[0m\u001b[0msleep\u001b[0m\u001b[0;34m(\u001b[0m\u001b[0;36m60.0\u001b[0m \u001b[0;34m-\u001b[0m \u001b[0;34m(\u001b[0m\u001b[0;34m(\u001b[0m\u001b[0mtime\u001b[0m\u001b[0;34m.\u001b[0m\u001b[0mtime\u001b[0m\u001b[0;34m(\u001b[0m\u001b[0;34m)\u001b[0m \u001b[0;34m-\u001b[0m \u001b[0mstarttime\u001b[0m\u001b[0;34m)\u001b[0m \u001b[0;34m%\u001b[0m \u001b[0;36m60.0\u001b[0m\u001b[0;34m)\u001b[0m\u001b[0;34m)\u001b[0m\u001b[0;34m\u001b[0m\u001b[0;34m\u001b[0m\u001b[0m\n\u001b[0m",
      "\u001b[0;31mKeyboardInterrupt\u001b[0m: "
     ]
    }
   ],
   "source": [
    "# specify channel data and text file name\n",
    "channel_name = 'disguisedtoast' #hearthstone\n",
    "log_file_name = 'disguisedtoast_stream_metadata.txt'\n",
    "\n",
    "#Twitch API calls\n",
    "from itertools import islice\n",
    "from twitch import TwitchHelix\n",
    "import os\n",
    "\n",
    "client = TwitchHelix(client_id=os.environ.get('TWITCH_CLIENT_KEY'))\n",
    "\n",
    "f = open(log_file_name,\"a+\")\n",
    "f.close()\n",
    "\n",
    "#writes to time and data to file\n",
    "import time\n",
    "starttime=time.time()\n",
    "import datetime\n",
    "\n",
    "while True:\n",
    "    #gets current channel metadata\n",
    "    streams_iterator = client.get_streams(user_logins=channel_name)\n",
    "    stream_data = streams_iterator.next()\n",
    "    \n",
    "    #gets current datetime\n",
    "    now = str(datetime.datetime.now().isoformat())\n",
    "    \n",
    "    #prints current time output\n",
    "#     print (\"tick- \",now)\n",
    "    \n",
    "    #writes time and channel metadata to file\n",
    "    data = str(now+str(stream_data)+\"\\n\")\n",
    "    f = open(log_file_name,\"a+\")\n",
    "    f.write(data)\n",
    "    print(data)\n",
    "    f.close()\n",
    "\n",
    "    time.sleep(60.0 - ((time.time() - starttime) % 60.0))"
   ]
  },
  {
   "cell_type": "code",
   "execution_count": null,
   "metadata": {},
   "outputs": [],
   "source": [
    "f.close()"
   ]
  }
 ],
 "metadata": {
  "kernelspec": {
   "display_name": "Python 3",
   "language": "python",
   "name": "python3"
  },
  "language_info": {
   "codemirror_mode": {
    "name": "ipython",
    "version": 3
   },
   "file_extension": ".py",
   "mimetype": "text/x-python",
   "name": "python",
   "nbconvert_exporter": "python",
   "pygments_lexer": "ipython3",
   "version": "3.7.1"
  }
 },
 "nbformat": 4,
 "nbformat_minor": 2
}
