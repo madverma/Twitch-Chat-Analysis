{
 "cells": [
  {
   "cell_type": "markdown",
   "metadata": {},
   "source": [
    "# Scraping Twitch Channel Metadata\n",
    "\n",
    "### Uses Twitch API / Python client to extract data\n",
    "\n",
    "The following code runs and logs data until manually stopped"
   ]
  },
  {
   "cell_type": "code",
   "execution_count": null,
   "metadata": {},
   "outputs": [
    {
     "name": "stdout",
     "output_type": "stream",
     "text": [
      "2019-07-01T10:31:56.580256{'id': '34737341168', 'user_id': '21390470', 'user_name': 'singsing', 'game_id': '499132', 'community_ids': [], 'type': 'live', 'title': 'They are billions campaign 800% mode ', 'viewer_count': 2364, 'started_at': datetime.datetime(2019, 7, 1, 7, 15, 7), 'language': 'en', 'thumbnail_url': 'https://static-cdn.jtvnw.net/previews-ttv/live_user_singsing-{width}x{height}.jpg', 'tag_ids': ['6ea6bca4-4712-4ab9-a906-e3336a9d8039']}\n",
      "\n",
      "2019-07-01T10:32:57.022080{'id': '34737341168', 'user_id': '21390470', 'user_name': 'singsing', 'game_id': '499132', 'community_ids': [], 'type': 'live', 'title': 'They are billions campaign 800% mode ', 'viewer_count': 2379, 'started_at': datetime.datetime(2019, 7, 1, 7, 15, 7), 'language': 'en', 'thumbnail_url': 'https://static-cdn.jtvnw.net/previews-ttv/live_user_singsing-{width}x{height}.jpg', 'tag_ids': ['6ea6bca4-4712-4ab9-a906-e3336a9d8039']}\n",
      "\n",
      "2019-07-01T10:33:56.986992{'id': '34737341168', 'user_id': '21390470', 'user_name': 'singsing', 'game_id': '499132', 'community_ids': [], 'type': 'live', 'title': 'They are billions campaign 800% mode ', 'viewer_count': 2392, 'started_at': datetime.datetime(2019, 7, 1, 7, 15, 7), 'language': 'en', 'thumbnail_url': 'https://static-cdn.jtvnw.net/previews-ttv/live_user_singsing-{width}x{height}.jpg', 'tag_ids': ['6ea6bca4-4712-4ab9-a906-e3336a9d8039']}\n",
      "\n"
     ]
    }
   ],
   "source": [
    "# specify channel data and text file name\n",
    "channel_name = 'singsing' #hearthstone\n",
    "log_file_name = 'singsing_stream_metadata.txt'\n",
    "\n",
    "#Twitch API calls\n",
    "from itertools import islice\n",
    "from twitch import TwitchHelix\n",
    "import os\n",
    "\n",
    "client = TwitchHelix(client_id=os.environ.get('TWITCH_CLIENT_KEY'))\n",
    "\n",
    "f = open(log_file_name,\"a+\")\n",
    "f.close()\n",
    "\n",
    "#writes to time and data to file\n",
    "import time\n",
    "starttime=time.time()\n",
    "import datetime\n",
    "\n",
    "while True:\n",
    "    #gets current channel metadata\n",
    "    streams_iterator = client.get_streams(user_logins=channel_name)\n",
    "    stream_data = streams_iterator.next()\n",
    "    \n",
    "    #gets current datetime\n",
    "    now = str(datetime.datetime.now().isoformat())\n",
    "    \n",
    "    #prints current time output\n",
    "#     print (\"tick- \",now)\n",
    "    \n",
    "    #writes time and channel metadata to file\n",
    "    data = str(now+str(stream_data)+\"\\n\")\n",
    "    f = open(log_file_name,\"a+\")\n",
    "    f.write(data)\n",
    "    print(data)\n",
    "    f.close()\n",
    "\n",
    "    time.sleep(60.0 - ((time.time() - starttime) % 60.0))"
   ]
  },
  {
   "cell_type": "code",
   "execution_count": null,
   "metadata": {},
   "outputs": [],
   "source": [
    "f.close()"
   ]
  },
  {
   "cell_type": "code",
   "execution_count": 5,
   "metadata": {},
   "outputs": [
    {
     "name": "stdout",
     "output_type": "stream",
     "text": [
      "hi\n",
      "end\n"
     ]
    }
   ],
   "source": [
    "print('hi')\n",
    "time.sleep(1)\n",
    "print('end')"
   ]
  },
  {
   "cell_type": "code",
   "execution_count": 3,
   "metadata": {},
   "outputs": [
    {
     "data": {
      "text/plain": [
       "[{'id': '33214', 'name': 'Fortnite', 'box_art_url': 'https://static-cdn.jtvnw.net/ttv-boxart/Fortnite-{width}x{height}.jpg'}, {'id': '513143', 'name': 'Teamfight Tactics', 'box_art_url': 'https://static-cdn.jtvnw.net/ttv-boxart/Teamfight%20Tactics-{width}x{height}.jpg'}, {'id': '32982', 'name': 'Grand Theft Auto V', 'box_art_url': 'https://static-cdn.jtvnw.net/ttv-boxart/Grand%20Theft%20Auto%20V-{width}x{height}.jpg'}, {'id': '509658', 'name': 'Just Chatting', 'box_art_url': 'https://static-cdn.jtvnw.net/ttv-boxart/Just%20Chatting-{width}x{height}.jpg'}, {'id': '21779', 'name': 'League of Legends', 'box_art_url': 'https://static-cdn.jtvnw.net/ttv-boxart/League%20of%20Legends-{width}x{height}.jpg'}, {'id': '511399', 'name': 'Super Mario Maker 2', 'box_art_url': 'https://static-cdn.jtvnw.net/ttv-boxart/Super%20Mario%20Maker%202-{width}x{height}.jpg'}, {'id': '32399', 'name': 'Counter-Strike: Global Offensive', 'box_art_url': 'https://static-cdn.jtvnw.net/ttv-boxart/./Counter-Strike:%20Global%20Offensive-{width}x{height}.jpg'}, {'id': '18122', 'name': 'World of Warcraft', 'box_art_url': 'https://static-cdn.jtvnw.net/ttv-boxart/World%20of%20Warcraft-{width}x{height}.jpg'}, {'id': '493057', 'name': \"PLAYERUNKNOWN'S BATTLEGROUNDS\", 'box_art_url': 'https://static-cdn.jtvnw.net/ttv-boxart/PLAYERUNKNOWN%27S%20BATTLEGROUNDS-{width}x{height}.jpg'}, {'id': '29595', 'name': 'Dota 2', 'box_art_url': 'https://static-cdn.jtvnw.net/ttv-boxart/Dota%202-{width}x{height}.jpg'}, {'id': '488552', 'name': 'Overwatch', 'box_art_url': 'https://static-cdn.jtvnw.net/ttv-boxart/Overwatch-{width}x{height}.jpg'}, {'id': '66082', 'name': 'Games + Demos', 'box_art_url': 'https://static-cdn.jtvnw.net/ttv-boxart/Games%20+%20Demos-{width}x{height}.jpg'}, {'id': '27471', 'name': 'Minecraft', 'box_art_url': 'https://static-cdn.jtvnw.net/ttv-boxart/Minecraft-{width}x{height}.jpg'}, {'id': '2748', 'name': 'Magic: The Gathering', 'box_art_url': 'https://static-cdn.jtvnw.net/ttv-boxart/./Magic:%20The%20Gathering-{width}x{height}.jpg'}, {'id': '29307', 'name': 'Path of Exile', 'box_art_url': 'https://static-cdn.jtvnw.net/ttv-boxart/Path%20of%20Exile-{width}x{height}.jpg'}, {'id': '499132', 'name': 'They Are Billions', 'box_art_url': 'https://static-cdn.jtvnw.net/ttv-boxart/They%20Are%20Billions-{width}x{height}.jpg'}, {'id': '138585', 'name': 'Hearthstone', 'box_art_url': 'https://static-cdn.jtvnw.net/ttv-boxart/Hearthstone-{width}x{height}.jpg'}, {'id': '460630', 'name': \"Tom Clancy's Rainbow Six: Siege\", 'box_art_url': 'https://static-cdn.jtvnw.net/ttv-boxart/./Tom%20Clancy%27s%20Rainbow%20Six:%20Siege-{width}x{height}.jpg'}, {'id': '511224', 'name': 'Apex Legends', 'box_art_url': 'https://static-cdn.jtvnw.net/ttv-boxart/Apex%20Legends-{width}x{height}.jpg'}, {'id': '497057', 'name': 'Destiny 2', 'box_art_url': 'https://static-cdn.jtvnw.net/ttv-boxart/Destiny%202-{width}x{height}.jpg'}]"
      ]
     },
     "execution_count": 3,
     "metadata": {},
     "output_type": "execute_result"
    }
   ],
   "source": [
    "import os\n",
    "from twitch import TwitchHelix\n",
    "client = TwitchHelix(client_id=os.environ.get('TWITCH_CLIENT_KEY'))\n",
    "client.get_top_games()"
   ]
  },
  {
   "cell_type": "code",
   "execution_count": null,
   "metadata": {},
   "outputs": [],
   "source": []
  }
 ],
 "metadata": {
  "kernelspec": {
   "display_name": "Python 3",
   "language": "python",
   "name": "python3"
  },
  "language_info": {
   "codemirror_mode": {
    "name": "ipython",
    "version": 3
   },
   "file_extension": ".py",
   "mimetype": "text/x-python",
   "name": "python",
   "nbconvert_exporter": "python",
   "pygments_lexer": "ipython3",
   "version": "3.7.1"
  }
 },
 "nbformat": 4,
 "nbformat_minor": 2
}
